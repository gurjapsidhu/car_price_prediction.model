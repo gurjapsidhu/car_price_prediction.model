#!/usr/bin/env python
# coding: utf-8

# Importing necessary libraries
import numpy as np
import pandas as pd
import joblib
import seaborn as sns
import matplotlib.pyplot as plt
from sklearn.model_selection import train_test_split, cross_val_score
from sklearn.linear_model import Lasso
from sklearn.preprocessing import StandardScaler
from sklearn import metrics
from sklearn.impute import SimpleImputer

# Load dataset
data = pd.read_csv("car data.csv")

# Explore the data
data.head()

# Check for missing values
print("Missing values:\n", data.isnull().sum())

# Fill missing values using the median for numerical columns and mode for categorical columns
imputer = SimpleImputer(strategy='median')
data[['Kms_Driven']] = imputer.fit_transform(data[['Kms_Driven']])

# Categorical variables encoding
data.replace({"Fuel_Type": {"Diesel": 1, "Petrol": 0, "CNG": 2}}, inplace=True)
data.replace({"Transmission": {"Manual": 0, "Automatic": 1}}, inplace=True)
data.replace({"Seller_Type": {"Individual": 1, "Dealer": 0}}, inplace=True)

# Define features and target variable
X = data.drop(["Car_Name", "Selling_Price"], axis=1)
y = data["Selling_Price"]

# Train-test split (80% train, 20% test)
X_train, X_test, y_train, y_test = train_test_split(X, y, test_size=0.2, random_state=42)

# Scaling the features
scaler = StandardScaler()
X_train_scaled = scaler.fit_transform(X_train)
X_test_scaled = scaler.transform(X_test)

# Model: Lasso Regression
model = Lasso(alpha=0.1)  # Set alpha (regularization strength) for better performance

# Train the model
model.fit(X_train_scaled, y_train)

# Predictions
y_train_preds = model.predict(X_train_scaled)
y_test_preds = model.predict(X_test_scaled)

# Model evaluation
train_r2_score = metrics.r2_score(y_train, y_train_preds)
test_r2_score = metrics.r2_score(y_test, y_test_preds)
train_mse = metrics.mean_squared_error(y_train, y_train_preds)
test_mse = metrics.mean_squared_error(y_test, y_test_preds)
train_mae = metrics.mean_absolute_error(y_train, y_train_preds)
test_mae = metrics.mean_absolute_error(y_test, y_test_preds)

# Display evaluation metrics
print("Training R²:", train_r2_score)
print("Testing R²:", test_r2_score)
print("Training Mean Squared Error (MSE):", train_mse)
print("Testing Mean Squared Error (MSE):", test_mse)
print("Training Mean Absolute Error (MAE):", train_mae)
print("Testing Mean Absolute Error (MAE):", test_mae)

# Visualize predicted vs actual prices for training data
plt.scatter(y_train, y_train_preds)
plt.xlabel("Actual Price")
plt.ylabel("Predicted Price")
plt.title("Actual vs Predicted Prices (Training Data)")
plt.show()

# Save the model and scaler for future predictions
joblib.dump(model, 'lasso_model.pkl')
joblib.dump(scaler, 'scaler.pkl')

# Let's display some insights
sns.heatmap(data.corr(), annot=True, cmap="coolwarm", fmt=".2f")
plt.title("Correlation Matrix")
plt.show()

# If you want to make predictions on new data, use:
# model = joblib.load('lasso_model.pkl')
# scaler = joblib.load('scaler.pkl')
# new_data = np.array([/* your input features */]).reshape(1, -1)
# new_data_scaled = scaler.transform(new_data)
# predicted_price = model.predict(new_data_scaled)
